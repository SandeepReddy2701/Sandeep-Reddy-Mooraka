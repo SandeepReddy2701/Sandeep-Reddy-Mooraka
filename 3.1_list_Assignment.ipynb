{
 "cells": [
  {
   "cell_type": "markdown",
   "metadata": {},
   "source": [
    "# Module 3: Data Structures Assignments\n",
    "## Lesson 3.1: Lists\n",
    "### Assignment 1: Creating and Accessing Lists\n",
    "\n",
    "Create a list of the first 20 positive integers. Print the list.\n",
    "\n",
    "### Assignment 2: Accessing List Elements\n",
    "\n",
    "Print the first, middle, and last elements of the list created in Assignment 1.\n",
    "\n",
    "### Assignment 3: List Slicing\n",
    "\n",
    "Print the first five elements, the last five elements, and the elements from index 5 to 15 of the list created in Assignment 1.\n",
    "\n",
    "### Assignment 4: List Comprehensions\n",
    "\n",
    "Create a new list containing the squares of the first 10 positive integers using a list comprehension. Print the new list.\n",
    "\n",
    "### Assignment 5: Filtering Lists\n",
    "\n",
    "Create a new list containing only the even numbers from the list created in Assignment 1 using a list comprehension. Print the new list.\n",
    "\n",
    "### Assignment 6: List Methods\n",
    "\n",
    "Create a list of random numbers and sort it in ascending and descending order. Remove the duplicates from the list and print the modified list.\n",
    "\n",
    "### Assignment 7: Nested Lists\n",
    "\n",
    "Create a nested list representing a 3x3 matrix and print the matrix. Access and print the element at the second row and third column.\n",
    "\n",
    "### Assignment 8: List of Dictionaries\n",
    "\n",
    "Create a list of dictionaries where each dictionary represents a student with keys 'name' and 'score'. Sort the list of dictionaries by the 'score' in descending order and print the sorted list.\n",
    "\n",
    "### Assignment 9: Matrix Transposition\n",
    "\n",
    "Write a function that takes a 3x3 matrix (nested list) as input and returns its transpose. Print the original and transposed matrices.\n",
    "\n",
    "### Assignment 10: Flattening a Nested List\n",
    "\n",
    "Write a function that takes a nested list and flattens it into a single list. Print the original and flattened lists.\n",
    "\n",
    "### Assignment 11: List Manipulation\n",
    "\n",
    "Create a list of the first 10 positive integers. Remove the elements at indices 2, 4, and 6, and insert the element '99' at index 5. Print the modified list.\n",
    "\n",
    "### Assignment 12: List Zipping\n",
    "\n",
    "Create two lists of the same length. Use the `zip` function to combine these lists into a list of tuples and print the result.\n",
    "\n",
    "### Assignment 13: List Reversal\n",
    "\n",
    "Write a function that takes a list and returns a new list with the elements in reverse order. Print the original and reversed lists.\n",
    "\n",
    "### Assignment 14: List Rotation\n",
    "\n",
    "Write a function that rotates a list by n positions. Print the original and rotated lists.\n",
    "\n",
    "### Assignment 15: List Intersection\n",
    "\n",
    "Write a function that takes two lists and returns a new list containing only the elements that are present in both lists. Print the intersected list."
   ]
  },
  {
   "cell_type": "code",
   "execution_count": null,
   "id": "439165a4",
   "metadata": {},
   "outputs": [],
   "source": [
    " ## Create a list of the first 20 positive integers. Print the list.\n",
    "numbers = list(range(1, 21))\n",
    "print(numbers)"
   ]
  },
  {
   "cell_type": "code",
   "execution_count": null,
   "metadata": {},
   "outputs": [],
   "source": [
    "## Print the first, middle, and last elements of the list created in Assignment 1.\n",
    "numbers = list(range(1, 21))\n",
    "first = numbers[0]\n",
    "middle = numbers[len(numbers) // 2]\n",
    "last = numbers[-1]\n",
    "print(\"First element:\", first)\n",
    "print(\"Middle element:\", middle)\n",
    "print(\"Last element:\", last)"
   ]
  },
  {
   "cell_type": "code",
   "execution_count": null,
   "id": "c6e748ac",
   "metadata": {},
   "outputs": [],
   "source": [
    "## Print the first five elements, the last five elements, and the elements from index 5 to 15 of the list created in Assignment 1.\n",
    "numbers = list(range(1, 21))\n",
    "\n",
    "first_five = [numbers[i] for i in range(5)]\n",
    "last_five = [numbers[i] for i in range(len(numbers) - 5, len(numbers))]\n",
    "middle_section = [numbers[i] for i in range(5, 16)]\n",
    "\n",
    "print(\"First five elements:\", first_five)\n",
    "print(\"Last five elements:\", last_five)\n",
    "print(\"Elements from index 5 to 15:\", middle_section)"
   ]
  },
  {
   "cell_type": "code",
   "execution_count": null,
   "id": "148b9931",
   "metadata": {},
   "outputs": [],
   "source": [
    "## Create a new list containing the squares of the first 10 positive integers using a list comprehension. Print the new list.\n",
    "squares = [i**2 for i in range(1, 11)]\n",
    "print(squares)"
   ]
  },
  {
   "cell_type": "code",
   "execution_count": null,
   "id": "ad2eb135",
   "metadata": {},
   "outputs": [],
   "source": [
    "## Create a new list containing only the even numbers from the list created in Assignment 1 using a list comprehension. Print the new list.\n",
    "numbers = list(range(1, 21))\n",
    "even_numbers = [num for num in numbers if num % 2 == 0]\n",
    "print(even_numbers)"
   ]
  },
  {
   "cell_type": "code",
   "execution_count": null,
   "id": "186e4019",
   "metadata": {},
   "outputs": [],
   "source": [
    "## Create a nested list representing a 3x3 matrix and print the matrix. Access and print the element at the second row and third column.\n",
    "matrix = [\n",
    "    [1, 2, 3],\n",
    "    [4, 5, 6],\n",
    "    [7, 8, 9]\n",
    "]\n",
    "for row in matrix:\n",
    "    print(row)\n",
    "element = matrix[1][2]\n",
    "print(\"Element at second row, third column:\", element)"
   ]
  },
  {
   "cell_type": "code",
   "execution_count": null,
   "id": "a2f48ef4",
   "metadata": {},
   "outputs": [],
   "source": [
    "## Create a list of dictionaries where each dictionary represents a student with keys 'name' and 'score'. Sort the list of dictionaries by the 'score' in descending order and print the sorted list.\n",
    "students = [\n",
    "    {'name': 'Asha', 'score': 85},\n",
    "    {'name': 'Ravi', 'score': 92},\n",
    "    {'name': 'Meena', 'score': 78},\n",
    "    {'name': 'Kiran', 'score': 90},\n",
    "    {'name': 'Farah', 'score': 88}\n",
    "]\n",
    "\n",
    "sorted_students = sorted(students, key=lambda x: x['score'], reverse=True)\n",
    "print(sorted_students)"
   ]
  },
  {
   "cell_type": "code",
   "execution_count": null,
   "id": "7c162115",
   "metadata": {},
   "outputs": [],
   "source": [
    "## Write a function that takes a 3x3 matrix (nested list) as input and returns its transpose. Print the original and transposed matrices.\n",
    "def transpose_matrix(matrix):\n",
    "    return [[matrix[j][i] for j in range(3)] for i in range(3)]\n",
    "original = [\n",
    "    [1, 2, 3],\n",
    "    [4, 5, 6],\n",
    "    [7, 8, 9]\n",
    "]\n",
    "transposed = transpose_matrix(original)\n",
    "\n",
    "print(\"Original matrix:\")\n",
    "for row in original:\n",
    "    print(row)\n",
    "print(\"Transposed matrix:\")\n",
    "for row in transposed:\n",
    "    print(row)"
   ]
  },
  {
   "cell_type": "code",
   "execution_count": null,
   "id": "e1a2d404",
   "metadata": {},
   "outputs": [],
   "source": [
    "##Write a function that takes a nested list and flattens it into a single list. Print the original and flattened lists.\n",
    "def flatten(nested_list):\n",
    "    return [item for sublist in nested_list for item in sublist]\n",
    "\n",
    "original = [[1, 2], [3, 4, 5], [6], [7, 8, 9]]\n",
    "flattened = flatten(original)\n",
    "\n",
    "print(\"Original nested list:\", original)\n",
    "print(\"Flattened list:\", flattened)"
   ]
  },
  {
   "cell_type": "code",
   "execution_count": null,
   "id": "c4175481",
   "metadata": {},
   "outputs": [],
   "source": [
    "## Create a list of the first 10 positive integers. Remove the elements at indices 2, 4, and 6, and insert the element '99' at index 5. Print the modified list.\n",
    "numbers = list(range(1, 11))\n",
    "\n",
    "del numbers[6]\n",
    "del numbers[4]\n",
    "del numbers[2]\n",
    "\n",
    "numbers.insert(5, 99)\n",
    "\n",
    "print(numbers)"
   ]
  },
  {
   "cell_type": "code",
   "execution_count": null,
   "id": "ffb96fc5",
   "metadata": {},
   "outputs": [],
   "source": [
    "## reate two lists of the same length. Use the `zip` function to combine these lists into a list of tuples and print the result.\n",
    "list1 = ['a', 'b', 'c', 'd']\n",
    "list2 = [1, 2, 3, 4]\n",
    "\n",
    "zipped = list(zip(list1, list2))\n",
    "print(zipped)"
   ]
  },
  {
   "cell_type": "code",
   "execution_count": null,
   "id": "839bed8d",
   "metadata": {},
   "outputs": [],
   "source": [
    "## Write a function that takes a list and returns a new list with the elements in reverse order. Print the original and reversed lists.\n",
    "def reverse_list(lst):\n",
    "    return lst[::-1]\n",
    "\n",
    "original = [10, 20, 30, 40, 50]\n",
    "reversed_list = reverse_list(original)\n",
    "\n",
    "print(\"Original list:\", original)\n",
    "print(\"Reversed list:\", reversed_list)"
   ]
  },
  {
   "cell_type": "code",
   "execution_count": null,
   "id": "f47cdb62",
   "metadata": {},
   "outputs": [],
   "source": [
    "## Write a function that rotates a list by n positions. Print the original and rotated lists\n",
    "def rotate_list(lst, n):\n",
    "    n = n % len(lst)  # Handle cases where n > len(lst)\n",
    "    return lst[n:] + lst[:n]\n",
    "\n",
    "original = [1, 2, 3, 4, 5, 6]\n",
    "rotated = rotate_list(original, 2)\n",
    "\n",
    "print(\"Original list:\", original)\n",
    "print(\"Rotated list:\", rotated)"
   ]
  },
  {
   "cell_type": "code",
   "execution_count": null,
   "id": "2041be28",
   "metadata": {},
   "outputs": [],
   "source": [
    "## Write a function that rotates a list by n positions. Print the original and rotated lists.\n",
    "def rotate_list(lst, n):\n",
    "    n = n % len(lst)\n",
    "    return lst[n:] + lst[:n]\n",
    "\n",
    "original = [10, 20, 30, 40, 50]\n",
    "rotated = rotate_list(original, 2)\n",
    "\n",
    "print(\"Original list:\", original)\n",
    "print(\"Rotated list:\", rotated)"
   ]
  },
  {
   "cell_type": "code",
   "execution_count": null,
   "id": "7fac6e6f",
   "metadata": {},
   "outputs": [],
   "source": [
    "## Write a function that takes two lists and returns a new list containing only the elements that are present in both lists. Print the intersected list.\n",
    "def intersect_lists(list1, list2):\n",
    "    return [item for item in list1 if item in list2]\n",
    "a = [1, 2, 3, 4, 5]\n",
    "b = [3, 4, 5, 6, 7]\n",
    "intersection = intersect_lists(a, b)\n",
    "print(\"Intersected list:\", intersection)"
   ]
  }
 ],
 "metadata": {
  "kernelspec": {
   "display_name": "Python 3",
   "language": "python",
   "name": "python3"
  },
  "language_info": {
   "codemirror_mode": {
    "name": "ipython",
    "version": 3
   },
   "file_extension": ".py",
   "mimetype": "text/x-python",
   "name": "python",
   "nbconvert_exporter": "python",
   "pygments_lexer": "ipython3",
   "version": "3.9.7"
  }
 },
 "nbformat": 4,
 "nbformat_minor": 5
}
