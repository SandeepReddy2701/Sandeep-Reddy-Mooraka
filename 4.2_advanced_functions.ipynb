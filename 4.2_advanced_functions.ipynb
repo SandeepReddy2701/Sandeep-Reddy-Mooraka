{
 "cells": [
  {
   "cell_type": "markdown",
   "metadata": {},
   "source": [
    "# Module 4: Advanced Functions Assignments\n",
    "## Lesson 4.1: Defining Functions\n",
    "\n",
    "## TRY TO SOLVE AS MANY AS YOU CAN!\n",
    "### Assignment 1: Fibonacci Sequence with Memoization\n",
    "\n",
    "Define a recursive function to calculate the nth Fibonacci number using memoization. Test the function with different inputs.\n",
    "\n",
    "### Assignment 2: Function with Nested Default Arguments\n",
    "\n",
    "Define a function that takes two arguments, a and b, where b is a dictionary with a default value of an empty dictionary. The function should add a new key-value pair to the dictionary and return it. Test the function with different inputs.\n",
    "\n",
    "### Assignment 3: Function with Variable Keyword Arguments\n",
    "\n",
    "Define a function that takes a variable number of keyword arguments and returns a dictionary containing only those key-value pairs where the value is an integer. Test the function with different inputs.\n",
    "\n",
    "### Assignment 4: Function with Callback\n",
    "\n",
    "Define a function that takes another function as a callback and a list of integers. The function should apply the callback to each integer in the list and return a new list with the results. Test with different callback functions.\n",
    "\n",
    "### Assignment 5: Function that Returns a Function\n",
    "\n",
    "Define a function that returns another function. The returned function should take an integer and return its square. Test the returned function with different inputs.\n",
    "\n",
    "### Assignment 6: Function with Decorators\n",
    "\n",
    "Define a function that calculates the time taken to execute another function. Apply this decorator to a function that performs a complex calculation. Test the decorated function with different inputs.\n",
    "\n",
    "### Assignment 7: Higher-Order Function for Filtering and Mapping\n",
    "\n",
    "Define a higher-order function that takes two functions, a filter function and a map function, along with a list of integers. The higher-order function should first filter the integers using the filter function and then apply the map function to the filtered integers. Test with different filter and map functions.\n",
    "\n",
    "### Assignment 8: Function Composition\n",
    "\n",
    "Define a function that composes two functions, f and g, such that the result is f(g(x)). Test with different functions f and g.\n",
    "\n",
    "### Assignment 9: Partial Function Application\n",
    "\n",
    "Use the functools.partial function to create a new function that multiplies its input by 2. Test the new function with different inputs.\n",
    "\n",
    "### Assignment 10: Function with Error Handling\n",
    "\n",
    "Define a function that takes a list of integers and returns their average. The function should handle any errors that occur (e.g., empty list) and return None in such cases. Test with different inputs.\n",
    "\n",
    "### Assignment 11: Function with Generators\n",
    "\n",
    "Define a function that generates an infinite sequence of Fibonacci numbers. Test by printing the first 10 numbers in the sequence.\n",
    "\n",
    "### Assignment 12: Currying\n",
    "\n",
    "Define a curried function that takes three arguments, one at a time, and returns their product. Test the function by providing arguments one at a time.\n",
    "\n",
    "### Assignment 13: Function with Context Manager\n",
    "\n",
    "Define a function that uses a context manager to write a list of integers to a file. The function should handle any errors that occur during file operations. Test with different lists.\n",
    "\n",
    "### Assignment 14: Function with Multiple Return Types\n",
    "\n",
    "Define a function that takes a list of mixed data types (integers, strings, and floats) and returns three lists: one containing all the integers, one containing all the strings, and one containing all the floats. Test with different inputs.\n",
    "\n",
    "### Assignment 15: Function with State\n",
    "\n",
    "Define a function that maintains state between calls using a mutable default argument. The function should keep track of how many times it has been called. Test by calling the function multiple times."
   ]
  },
  {
   "cell_type": "code",
   "execution_count": null,
   "metadata": {},
   "outputs": [],
   "source": [
    "#Define a recursive function to calculate the nth Fibonacci number using memoization. Test the function with different inputs.\n",
    "def fibonacci(n, memo={}):\n",
    "    if n in memo:\n",
    "        return memo[n]\n",
    "    if n <= 1:\n",
    "        return n\n",
    "    memo[n] = fibonacci(n - 1, memo) + fibonacci(n - 2, memo)\n",
    "    return memo[n]"
   ]
  },
  {
   "cell_type": "code",
   "execution_count": null,
   "id": "912fcb0b",
   "metadata": {},
   "outputs": [],
   "source": [
    "#Define a function that takes two arguments, a and b, where b is a dictionary with a default value of an empty dictionary. The function should add a new key-value pair to the dictionary and return it. Test the function with different inputs.\n",
    "def add_to_dict(a, b={}):\n",
    "    b[a] = f\"value_for_{a}\"\n",
    "    return b"
   ]
  },
  {
   "cell_type": "code",
   "execution_count": null,
   "id": "08123004",
   "metadata": {},
   "outputs": [],
   "source": [
    "#Define a function that takes a variable number of keyword arguments and returns a dictionary containing only those key-value pairs where the value is an integer. Test the function with different inputs.\n",
    "def filter_integers(**kwargs):\n",
    "    return {key: value for key, value in kwargs.items() if isinstance(value, int)}"
   ]
  },
  {
   "cell_type": "code",
   "execution_count": null,
   "id": "e5071321",
   "metadata": {},
   "outputs": [],
   "source": [
    "#Define a function that takes another function as a callback and a list of integers. The function should apply the callback to each integer in the list and return a new list with the results. Test with different callback functions.\n",
    "def apply_callback(callback, int_list):\n",
    "    return [callback(x) for x in int_list]"
   ]
  },
  {
   "cell_type": "code",
   "execution_count": null,
   "id": "b5a68964",
   "metadata": {},
   "outputs": [],
   "source": [
    "#Define a function that generates an infinite sequence of Fibonacci numbers. Test by printing the first 10 numbers in the sequence.\n",
    "def fibonacci_generator():\n",
    "    a, b = 0, 1\n",
    "    while True:\n",
    "        yield a\n",
    "        a, b = b, a + b"
   ]
  },
  {
   "cell_type": "code",
   "execution_count": null,
   "id": "fdaa4d4c",
   "metadata": {},
   "outputs": [],
   "source": [
    "#Define a curried function that takes three arguments, one at a time, and returns their product. Test the function by providing arguments one at a time.\n",
    "def curried_product(a):\n",
    "    return lambda b: lambda c: a * b * c"
   ]
  },
  {
   "cell_type": "code",
   "execution_count": null,
   "id": "ac25aff4",
   "metadata": {},
   "outputs": [],
   "source": [
    "#Define a function that calculates the time taken to execute another function. Apply this decorator to a function that performs a complex calculation. Test the decorated function with different inputs.\n",
    "import time\n",
    "def time_it(func):\n",
    "    def wrapper(*args, **kwargs):\n",
    "        start = time.time()\n",
    "        result = func(*args, **kwargs)\n",
    "        end = time.time()\n",
    "        print(f\"Execution time: {end - start:.6f} seconds\")\n",
    "        return result\n",
    "    return wrapper"
   ]
  },
  {
   "cell_type": "code",
   "execution_count": null,
   "id": "ca2b2229",
   "metadata": {},
   "outputs": [],
   "source": [
    "#Define a higher-order function that takes two functions, a filter function and a map function, along with a list of integers. The higher-order function should first filter the integers using the filter function and then apply the map function to the filtered integers. Test with different filter and map functions.\n",
    "def filter_and_map(filter_func, map_func, int_list):\n",
    "    filtered = filter(filter_func, int_list)\n",
    "    mapped = map(map_func, filtered)\n",
    "    return list(mapped)"
   ]
  },
  {
   "cell_type": "code",
   "execution_count": null,
   "id": "0c3113bc",
   "metadata": {},
   "outputs": [],
   "source": [
    "#Use the functools.partial function to create a new function that multiplies its input by 2. Test the new function with different inputs.\n",
    "from functools import partial\n",
    "\n",
    "def multiply(x, y):\n",
    "    return x * y\n",
    "\n",
    "double = partial(multiply, 2)\n",
    "\n",
    "print(double(5))\n",
    "print(double(10))\n",
    "print(double(-3))\n",
    "print(double(0))"
   ]
  },
  {
   "cell_type": "code",
   "execution_count": null,
   "id": "6f06e083",
   "metadata": {},
   "outputs": [],
   "source": [
    "#Define a function that composes two functions, f and g, such that the result is f(g(x)). Test with different functions f and g.\n",
    "def compose(f, g):\n",
    "    return lambda x: f(g(x))"
   ]
  },
  {
   "cell_type": "code",
   "execution_count": null,
   "id": "bde67dd4",
   "metadata": {},
   "outputs": [],
   "source": [
    "#Define a function that takes a list of integers and returns their average. The function should handle any errors that occur (e.g., empty list) and return None in such cases. Test with different inputs.\n",
    "def average(int_list):\n",
    "    try:\n",
    "        return sum(int_list) / len(int_list)\n",
    "    except (ZeroDivisionError, TypeError):\n",
    "        return None\n",
    "\n",
    "print(average([10, 20, 30]))\n",
    "print(average([]))\n",
    "print(average([5]))\n",
    "print(average([1, 'a', 3]))"
   ]
  },
  {
   "cell_type": "code",
   "execution_count": null,
   "id": "d367f8cf",
   "metadata": {},
   "outputs": [],
   "source": [
    "#Define a function that uses a context manager to write a list of integers to a file. The function should handle any errors that occur during file operations. Test with different lists.\n",
    "def write_integers_to_file(filename, int_list):\n",
    "    try:\n",
    "        with open(filename, 'w') as file:\n",
    "            for number in int_list:\n",
    "                file.write(f\"{number}\\n\")\n",
    "        print(f\"Successfully wrote to {filename}\")\n",
    "    except Exception as e:\n",
    "        print(f\"Error writing to file: {e}\")"
   ]
  },
  {
   "cell_type": "code",
   "execution_count": null,
   "id": "eb0847e7",
   "metadata": {},
   "outputs": [],
   "source": [
    "#Define a function that takes a list of mixed data types (integers, strings, and floats) and returns three lists: one containing all the integers, one containing all the strings, and one containing all the floats. Test with different inputs.\n",
    "def separate_types(mixed_list):\n",
    "    integers = []\n",
    "    strings = []\n",
    "    floats = []\n",
    "    for item in mixed_list:\n",
    "        if isinstance(item, int) and not isinstance(item, bool):\n",
    "            integers.append(item)\n",
    "        elif isinstance(item, str):\n",
    "            strings.append(item)\n",
    "        elif isinstance(item, float):\n",
    "            floats.append(item)\n",
    "    return integers, strings, floats"
   ]
  },
  {
   "cell_type": "code",
   "execution_count": null,
   "id": "8d8090e4",
   "metadata": {},
   "outputs": [],
   "source": [
    "#Define a function that maintains state between calls using a mutable default argument. The function should keep track of how many times it has been called. Test by calling the function multiple times.\n",
    "def call_counter(counter={\"count\": 0}):\n",
    "    counter[\"count\"] += 1\n",
    "    return counter[\"count\"]"
   ]
  }
 ],
 "metadata": {
  "kernelspec": {
   "display_name": "Python 3",
   "language": "python",
   "name": "python3"
  },
  "language_info": {
   "codemirror_mode": {
    "name": "ipython",
    "version": 3
   },
   "file_extension": ".py",
   "mimetype": "text/x-python",
   "name": "python",
   "nbconvert_exporter": "python",
   "pygments_lexer": "ipython3",
   "version": "3.9.7"
  }
 },
 "nbformat": 4,
 "nbformat_minor": 5
}
