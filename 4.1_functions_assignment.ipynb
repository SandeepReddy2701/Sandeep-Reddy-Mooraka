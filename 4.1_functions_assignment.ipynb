{
 "cells": [
  {
   "cell_type": "markdown",
   "metadata": {},
   "source": [
    "# Module 4: Functions Assignments\n",
    "## Lesson 4.1: Defining Functions\n",
    "### Assignment 1: Simple Function\n",
    "\n",
    "Define a function that takes a single integer as input and returns its square. Test the function with different inputs.\n",
    "\n",
    "### Assignment 2: Multiple Arguments\n",
    "\n",
    "Define a function that takes two integers as input and returns their sum. Test the function with different inputs.\n",
    "\n",
    "### Assignment 3: Default Arguments\n",
    "\n",
    "Define a function that takes two integers as input and returns their sum. The second integer should have a default value of 5. Test the function with different inputs.\n",
    "\n",
    "### Assignment 4: Keyword Arguments\n",
    "\n",
    "Define a function that takes three named arguments: first_name, last_name, and age, and returns a formatted string. Test the function with different inputs.\n",
    "\n",
    "### Assignment 5: Variable-length Arguments\n",
    "\n",
    "Define a function that takes a variable number of integer arguments and returns their product. Test the function with different inputs.\n",
    "\n",
    "### Assignment 6: Nested Functions\n",
    "\n",
    "Define a function that contains another function inside it. The outer function should take two integers as input and return the result of the inner function, which multiplies the two integers. Test the function with different inputs.\n",
    "\n",
    "### Assignment 7: Returning Multiple Values\n",
    "\n",
    "Define a function that takes a single integer as input and returns the integer squared, cubed, and raised to the power of four. Test the function with different inputs.\n",
    "\n",
    "### Assignment 8: Recursive Function\n",
    "\n",
    "Define a recursive function that calculates the factorial of a given number. Test the function with different inputs.\n",
    "\n",
    "### Assignment 9: Lambda Function\n",
    "\n",
    "Define a lambda function that takes two integers as input and returns their sum. Test the lambda function with different inputs.\n",
    "\n",
    "### Assignment 10: Map Function\n",
    "\n",
    "Use the map function to apply a lambda function that squares each number in a list of integers. Test with different lists.\n",
    "\n",
    "### Assignment 11: Filter Function\n",
    "\n",
    "Use the filter function to filter out all odd numbers from a list of integers. Test with different lists.\n",
    "\n",
    "### Assignment 12: Function Decorator\n",
    "\n",
    "Define a decorator function that prints 'Executing function...' before executing a function and 'Function executed.' after executing it. Apply this decorator to a function that takes a list of integers and returns their sum. Test the decorated function with different lists.\n",
    "\n",
    "### Assignment 13: Function with *args and **kwargs\n",
    "\n",
    "Define a function that takes variable-length arguments and keyword arguments and prints them. Test the function with different inputs.\n",
    "\n",
    "### Assignment 14: Higher-Order Function\n",
    "\n",
    "Define a higher-order function that takes a function and a list of integers as arguments, and applies the function to each integer in the list. Test with different functions and lists.\n",
    "\n",
    "### Assignment 15: Function Documentation\n",
    "\n",
    "Define a function with a docstring that explains what the function does, its parameters, and its return value. Print the function's docstring."
   ]
  },
  {
   "cell_type": "code",
   "execution_count": null,
   "metadata": {},
   "outputs": [],
   "source": [
    "## Define a function that takes a single integer as input and returns its square. Test the function with different inputs.\n",
    "def square(num):\n",
    "    return num ** 2\n",
    "\n",
    "print(square(3))\n",
    "print(square(7))\n",
    "print(square(-4))\n",
    "print(square(0))"
   ]
  },
  {
   "cell_type": "code",
   "execution_count": null,
   "id": "2c8024a3",
   "metadata": {},
   "outputs": [],
   "source": [
    "## Define a function that takes two integers as input and returns their sum. Test the function with different inputs.\n",
    "def add(a, b):\n",
    "    return a + b\n",
    "\n",
    "print(add(5, 3))\n",
    "print(add(-2, 7))\n",
    "print(add(0, 0))\n",
    "print(add(10, -4))"
   ]
  },
  {
   "cell_type": "code",
   "execution_count": null,
   "id": "879c809b",
   "metadata": {},
   "outputs": [],
   "source": [
    "## Define a function that takes two integers as input and returns their sum. The second integer should have a default value of 5. Test the function with different inputs.\n",
    "def add(a, b=5):\n",
    "    return a + b\n",
    "\n",
    "print(add(3))\n",
    "print(add(10, 2))\n",
    "print(add(-7))\n",
    "print(add(0, 0))"
   ]
  },
  {
   "cell_type": "code",
   "execution_count": null,
   "id": "3373e842",
   "metadata": {},
   "outputs": [],
   "source": [
    "## Define a function that takes three named arguments: first_name, last_name, and age, and returns a formatted string. Test the function with different inputs.\n",
    "def format_person(first_name, last_name, age):\n",
    "    return f\"{first_name} {last_name} is {age} years old.\"\n",
    "\n",
    "print(format_person(first_name=\"Raju\", last_name=\"Doe\", age=30))\n",
    "print(format_person(first_name=\"Alice\", last_name=\"Smith\", age=25))\n",
    "print(format_person(first_name=\"Ravi\", last_name=\"Kumar\", age=40))"
   ]
  },
  {
   "cell_type": "code",
   "execution_count": null,
   "id": "a9355dd6",
   "metadata": {},
   "outputs": [],
   "source": [
    "## Define a function that takes a variable number of integer arguments and returns their product. Test the function with different inputs\n",
    "def multiply(*args):\n",
    "    result = 1\n",
    "    for num in args:\n",
    "        result *= num\n",
    "    return result\n",
    "\n",
    "print(multiply(2, 3))\n",
    "print(multiply(5, 4, 2))\n",
    "print(multiply(10))\n",
    "print(multiply())"
   ]
  },
  {
   "cell_type": "code",
   "execution_count": null,
   "id": "6921aac7",
   "metadata": {},
   "outputs": [],
   "source": [
    "## Define a function that contains another function inside it. The outer function should take two integers as input and return the result of the inner function, which multiplies the two integers. Test the function with different inputs.\n",
    "def outer(a, b):\n",
    "    def inner(x, y):\n",
    "        return x * y\n",
    "    return inner(a, b)\n",
    "\n",
    "print(outer(3, 4))\n",
    "print(outer(7, 2))\n",
    "print(outer(-5, 6))\n",
    "print(outer(0, 8))"
   ]
  },
  {
   "cell_type": "code",
   "execution_count": null,
   "id": "878b243c",
   "metadata": {},
   "outputs": [],
   "source": [
    "## Define a function that takes a single integer as input and returns the integer squared, cubed, and raised to the power of four. Test the function with different inputs.\n",
    "def powers(n):\n",
    "    return n**2, n**3, n**4\n",
    "\n",
    "print(powers(2))\n",
    "print(powers(5))\n",
    "print(powers(-3))\n",
    "print(powers(0))"
   ]
  },
  {
   "cell_type": "code",
   "execution_count": null,
   "id": "39a2cfff",
   "metadata": {},
   "outputs": [],
   "source": [
    "## Define a recursive function that calculates the factorial of a given number. Test the function with different inputs.\n",
    "def factorial(n):\n",
    "    if n == 0 or n == 1:\n",
    "        return 1\n",
    "    return n * factorial(n - 1)\n",
    "\n",
    "print(factorial(5))\n",
    "print(factorial(0))\n",
    "print(factorial(7))\n",
    "print(factorial(3))"
   ]
  },
  {
   "cell_type": "code",
   "execution_count": null,
   "id": "de5de781",
   "metadata": {},
   "outputs": [],
   "source": [
    "## Define a lambda function that takes two integers as input and returns their sum. Test the lambda function with different inputs.\n",
    "add = lambda a, b: a + b\n",
    "\n",
    "print(add(3, 5))\n",
    "print(add(-2, 7))\n",
    "print(add(0, 0))\n",
    "print(add(10, -4))"
   ]
  },
  {
   "cell_type": "code",
   "execution_count": null,
   "id": "af314896",
   "metadata": {},
   "outputs": [],
   "source": [
    "## Use the map function to apply a lambda function that squares each number in a list of integers. Test with different lists.\n",
    "print(list(map(lambda x: x**2, [1, 2, 3, 4, 5])))\n",
    "print(list(map(lambda x: x**2, [-1, 0, 2, -3])))\n",
    "print(list(map(lambda x: x**2, [10, 20, 30])))\n",
    "print(list(map(lambda x: x**2, [])))"
   ]
  },
  {
   "cell_type": "code",
   "execution_count": null,
   "id": "0e49da12",
   "metadata": {},
   "outputs": [],
   "source": [
    "## Use the filter function to filter out all odd numbers from a list of integers. Test with different lists.\n",
    "print(list(filter(lambda x: x % 2 == 0, [1, 2, 3, 4, 5])))\n",
    "print(list(filter(lambda x: x % 2 == 0, [10, 15, 20, 25])))\n",
    "print(list(filter(lambda x: x % 2 == 0, [-3, -2, -1, 0, 1])))\n",
    "print(list(filter(lambda x: x % 2 == 0, [7, 9, 11])))"
   ]
  },
  {
   "cell_type": "code",
   "execution_count": null,
   "id": "aac8ceb0",
   "metadata": {},
   "outputs": [],
   "source": [
    "#Define a decorator function that prints 'Executing function...' before executing a function and 'Function executed.' after executing it. Apply this decorator to a function that takes a list of integers and returns their sum. Test the decorated function with different lists\n",
    "def execution_logger(func):\n",
    "    def wrapper(*args, **kwargs):\n",
    "        print(\"Executing function...\")\n",
    "        result = func(*args, **kwargs)\n",
    "        print(\"Function executed.\")\n",
    "        return result\n",
    "    return wrapper\n",
    "\n",
    "@execution_logger\n",
    "def sum_list(numbers):\n",
    "    return sum(numbers)\n",
    "\n",
    "print(\"Result:\", sum_list([1, 2, 3, 4]))\n",
    "print(\"Result:\", sum_list([10, -5, 7]))\n",
    "print(\"Result:\", sum_list([]))"
   ]
  },
  {
   "cell_type": "code",
   "execution_count": null,
   "id": "c47cf2de",
   "metadata": {},
   "outputs": [],
   "source": [
    "#Define a function that takes variable-length arguments and keyword arguments and prints them. Test the function with different inputs.\n",
    "def print_args_kwargs(*args, **kwargs):\n",
    "    print(\"Positional arguments:\", args)\n",
    "    print(\"Keyword arguments:\", kwargs)\n",
    "\n",
    "print_args_kwargs(1, 2, 3, a=10, b=20)\n",
    "print_args_kwargs(\"apple\", \"banana\", x=\"red\", y=\"yellow\")\n",
    "print_args_kwargs()"
   ]
  },
  {
   "cell_type": "code",
   "execution_count": null,
   "id": "72d67fb7",
   "metadata": {},
   "outputs": [],
   "source": [
    "#Define a higher-order function that takes a function and a list of integers as arguments, and applies the function to each integer in the list. Test with different functions and lists.\n",
    "def apply_to_list(func, numbers):\n",
    "    return [func(n) for n in numbers]\n",
    "\n",
    "def square(x):\n",
    "    return x * x\n",
    "\n",
    "def double(x):\n",
    "    return x * 2\n",
    "\n",
    "def negate(x):\n",
    "    return -x\n",
    "\n",
    "print(apply_to_list(square, [1, 2, 3, 4]))\n",
    "print(apply_to_list(double, [5, 10, 15]))\n",
    "print(apply_to_list(negate, [-1, 0, 1]))"
   ]
  },
  {
   "cell_type": "code",
   "execution_count": null,
   "id": "5955c1f3",
   "metadata": {},
   "outputs": [],
   "source": [
    "#Define a function with a docstring that explains what the function does, its parameters, and its return value. Print the function's docstring.\n",
    "def calculate_average(numbers):\n",
    "    if not numbers:\n",
    "        return 0\n",
    "    return sum(numbers) / len(numbers)\n",
    "\n",
    "print(calculate_average.__doc__)"
   ]
  }
 ],
 "metadata": {
  "kernelspec": {
   "display_name": "Python 3",
   "language": "python",
   "name": "python3"
  },
  "language_info": {
   "codemirror_mode": {
    "name": "ipython",
    "version": 3
   },
   "file_extension": ".py",
   "mimetype": "text/x-python",
   "name": "python",
   "nbconvert_exporter": "python",
   "pygments_lexer": "ipython3",
   "version": "3.9.7"
  }
 },
 "nbformat": 4,
 "nbformat_minor": 5
}
