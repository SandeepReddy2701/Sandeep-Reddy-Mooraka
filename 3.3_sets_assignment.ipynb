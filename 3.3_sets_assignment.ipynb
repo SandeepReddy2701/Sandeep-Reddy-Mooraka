{
 "cells": [
  {
   "cell_type": "markdown",
   "metadata": {},
   "source": [
    "# Module 3: Data Structures Assignments\n",
    "## Lesson 3.3: Sets\n",
    "### Assignment 1: Creating and Accessing Sets\n",
    "\n",
    "Create a set with the first 10 positive integers. Print the set.\n",
    "\n",
    "### Assignment 2: Adding and Removing Elements\n",
    "\n",
    "Add the number 11 to the set created in Assignment 1. Then remove the number 1 from the set. Print the modified set.\n",
    "\n",
    "### Assignment 3: Set Operations\n",
    "\n",
    "Create two sets: one with the first 5 positive integers and another with the first 5 even integers. Perform and print the results of union, intersection, difference, and symmetric difference operations on these sets.\n",
    "\n",
    "### Assignment 4: Set Comprehensions\n",
    "\n",
    "Create a new set containing the squares of the first 10 positive integers using a set comprehension. Print the new set.\n",
    "\n",
    "### Assignment 5: Filtering Sets\n",
    "\n",
    "Create a new set containing only the even numbers from the set created in Assignment 1 using a set comprehension. Print the new set.\n",
    "\n",
    "### Assignment 6: Set Methods\n",
    "\n",
    "Create a set with duplicate elements and remove the duplicates using set methods. Print the modified set.\n",
    "\n",
    "### Assignment 7: Subsets and Supersets\n",
    "\n",
    "Create two sets: one with the first 5 positive integers and another with the first 3 positive integers. Check if the second set is a subset of the first set and if the first set is a superset of the second set. Print the results.\n",
    "\n",
    "### Assignment 8: Frozenset\n",
    "\n",
    "Create a frozenset with the first 5 positive integers. Print the frozenset.\n",
    "\n",
    "### Assignment 9: Set and List Conversion\n",
    "\n",
    "Create a set with the first 5 positive integers. Convert it to a list, append the number 6, and convert it back to a set. Print the resulting set.\n",
    "\n",
    "### Assignment 10: Set and Dictionary\n",
    "\n",
    "Create a dictionary with set keys and integer values. Print the dictionary.\n",
    "\n",
    "### Assignment 11: Iterating Over Sets\n",
    "\n",
    "Create a set and iterate over the elements, printing each element.\n",
    "\n",
    "### Assignment 12: Removing Elements from Sets\n",
    "\n",
    "Create a set and remove elements from it until it is empty. Print the set after each removal.\n",
    "\n",
    "### Assignment 13: Set Symmetric Difference Update\n",
    "\n",
    "Create two sets and update the first set with the symmetric difference of the two sets. Print the modified first set.\n",
    "\n",
    "### Assignment 14: Set Membership Testing\n",
    "\n",
    "Create a set and test if certain elements are present in the set. Print the results.\n",
    "\n",
    "### Assignment 15: Set of Tuples\n",
    "\n",
    "Create a set containing tuples, where each tuple contains two elements. Print the set."
   ]
  },
  {
   "cell_type": "code",
   "execution_count": null,
   "metadata": {},
   "outputs": [],
   "source": [
    "## Create a set with the first 10 positive integers. Print the set.\n",
    "numbers = set(range(1, 11))\n",
    "print(numbers)"
   ]
  },
  {
   "cell_type": "code",
   "execution_count": null,
   "id": "440d9049",
   "metadata": {},
   "outputs": [],
   "source": [
    "## Add the number 11 to the set created in Assignment 1. Then remove the number 1 from the set. Print the modified set.\n",
    "numbers = set(range(1, 11))\n",
    "\n",
    "numbers.add(11)\n",
    "numbers.discard(1)\n",
    "\n",
    "print(\"Modified set:\", numbers)"
   ]
  },
  {
   "cell_type": "code",
   "execution_count": null,
   "id": "eced5903",
   "metadata": {},
   "outputs": [],
   "source": [
    "## Create two sets: one with the first 5 positive integers and another with the first 5 even integers. Perform and print the results of union, intersection, difference, and symmetric difference operations on these sets.\n",
    "set1 = set(range(1, 6))\n",
    "set2 = set(range(2, 11, 2))\n",
    "\n",
    "union_result = set1 | set2\n",
    "intersection_result = set1 & set2\n",
    "difference_result = set1 - set2\n",
    "symmetric_diff_result = set1 ^ set2\n",
    "\n",
    "print(\"Set1:\", set1)\n",
    "print(\"Set2:\", set2)\n",
    "print(\"Union:\", union_result)\n",
    "print(\"Intersection:\", intersection_result)\n",
    "print(\"Difference (Set1 - Set2):\", difference_result)\n",
    "print(\"Symmetric Difference:\", symmetric_diff_result)"
   ]
  },
  {
   "cell_type": "code",
   "execution_count": null,
   "id": "40b04136",
   "metadata": {},
   "outputs": [],
   "source": [
    "## Create a new set containing the squares of the first 10 positive integers using a set comprehension. Print the new set.\n",
    "squares = {x**2 for x in range(1, 11)}\n",
    "print(squares)"
   ]
  },
  {
   "cell_type": "code",
   "execution_count": null,
   "id": "89073a2b",
   "metadata": {},
   "outputs": [],
   "source": [
    "## Create a set with duplicate elements and remove the duplicates using set methods. Print the modified set.\n",
    "numbers = [1, 2, 2, 3, 4, 4, 5, 5, 5]\n",
    "unique_numbers = set(numbers)\n",
    "print(\"Modified set:\", unique_numbers)\n"
   ]
  },
  {
   "cell_type": "code",
   "execution_count": null,
   "id": "dc4a67b8",
   "metadata": {},
   "outputs": [],
   "source": [
    "## Create two sets: one with the first 5 positive integers and another with the first 3 positive integers. Check if the second set is a subset of the first set and if the first set is a superset of the second set. Print the results.\n",
    "set1 = set(range(1, 6))\n",
    "set2 = set(range(1, 4))\n",
    "\n",
    "is_subset = set2.issubset(set1)\n",
    "is_superset = set1.issuperset(set2)\n",
    "\n",
    "print(\"Set1:\", set1)\n",
    "print(\"Set2:\", set2)\n",
    "print(\"Is Set2 a subset of Set1?\", is_subset)\n",
    "print(\"Is Set1 a superset of Set2?\", is_superset)"
   ]
  },
  {
   "cell_type": "code",
   "execution_count": null,
   "id": "525d604e",
   "metadata": {},
   "outputs": [],
   "source": [
    "## Create a frozenset with the first 5 positive integers. Print the frozenset.\n",
    "numbers = frozenset(range(1, 6))\n",
    "print(\"Frozenset:\", numbers)"
   ]
  },
  {
   "cell_type": "code",
   "execution_count": null,
   "id": "c9c6e52e",
   "metadata": {},
   "outputs": [],
   "source": [
    "## Create a set with the first 5 positive integers. Convert it to a list, append the number 6, and convert it back to a set. Print the resulting set.\n",
    "numbers = set(range(1, 6))\n",
    "temp_list = list(numbers)\n",
    "temp_list.append(6)\n",
    "result = set(temp_list)\n",
    "print(\"Modified set:\", result)"
   ]
  },
  {
   "cell_type": "code",
   "execution_count": null,
   "id": "3d3b9f9d",
   "metadata": {},
   "outputs": [],
   "source": [
    "## Create a dictionary with set keys and integer values. Print the dictionary.\n",
    "data = {\n",
    "    frozenset({1, 2}): 100,\n",
    "    frozenset({3, 4}): 200,\n",
    "    frozenset({5, 6}): 300\n",
    "}\n",
    "\n",
    "print(\"Dictionary with frozenset keys:\", data)"
   ]
  },
  {
   "cell_type": "code",
   "execution_count": null,
   "id": "91cc6cd6",
   "metadata": {},
   "outputs": [],
   "source": [
    "## Create a set and iterate over the elements, printing each element.\n",
    "numbers = {10, 20, 30, 40, 50}\n",
    "\n",
    "for num in numbers:\n",
    "    print(num)"
   ]
  },
  {
   "cell_type": "code",
   "execution_count": null,
   "id": "7a42299c",
   "metadata": {},
   "outputs": [],
   "source": [
    "## Create a set and remove elements from it until it is empty. Print the set after each removal.\n",
    "numbers = {5, 10, 15, 20, 25}\n",
    "while numbers:\n",
    "    removed = numbers.pop()\n",
    "    print(\"Removed:\", removed)\n",
    "    print(\"Current set:\", numbers)"
   ]
  },
  {
   "cell_type": "code",
   "execution_count": null,
   "id": "80036e3d",
   "metadata": {},
   "outputs": [],
   "source": [
    "## Create two sets and update the first set with the symmetric difference of the two sets. Print the modified first set.\n",
    "set1 = {1, 2, 3, 4}\n",
    "set2 = {3, 4, 5, 6}\n",
    "\n",
    "set1.symmetric_difference_update(set2)\n",
    "\n",
    "print(\"Modified Set1:\", set1)"
   ]
  },
  {
   "cell_type": "code",
   "execution_count": null,
   "id": "b50216ca",
   "metadata": {},
   "outputs": [],
   "source": [
    "## Create a set and test if certain elements are present in the set. Print the results.\n",
    "numbers = {10, 20, 30, 40, 50}\n",
    "\n",
    "print(\"Is 20 in the set?\", 20 in numbers)\n",
    "print(\"Is 35 in the set?\", 35 in numbers)\n",
    "print(\"Is 50 in the set?\", 50 in numbers)"
   ]
  },
  {
   "cell_type": "code",
   "execution_count": null,
   "id": "358ed44f",
   "metadata": {},
   "outputs": [],
   "source": [
    "##Create a set containing tuples, where each tuple contains two elements. Print the set.\n",
    "pairs = {\n",
    "    (1, 'a'),\n",
    "    (2, 'b'),\n",
    "    (3, 'c'),\n",
    "    (4, 'd'),\n",
    "    (5, 'e')\n",
    "}\n",
    "\n",
    "print(\"Set of tuples:\", pairs)"
   ]
  }
 ],
 "metadata": {
  "kernelspec": {
   "display_name": "Python 3",
   "language": "python",
   "name": "python3"
  },
  "language_info": {
   "codemirror_mode": {
    "name": "ipython",
    "version": 3
   },
   "file_extension": ".py",
   "mimetype": "text/x-python",
   "name": "python",
   "nbconvert_exporter": "python",
   "pygments_lexer": "ipython3",
   "version": "3.9.7"
  }
 },
 "nbformat": 4,
 "nbformat_minor": 5
}
