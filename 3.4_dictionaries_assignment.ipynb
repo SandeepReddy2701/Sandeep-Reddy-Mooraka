{
 "cells": [
  {
   "cell_type": "markdown",
   "metadata": {},
   "source": [
    "# Module 3: Data Structures Assignments\n",
    "## Lesson 3.4: Dictionaries\n",
    "### Assignment 1: Creating and Accessing Dictionaries\n",
    "\n",
    "Create a dictionary with the first 10 positive integers as keys and their squares as values. Print the dictionary.\n",
    "\n",
    "### Assignment 2: Accessing Dictionary Elements\n",
    "\n",
    "Print the value of the key 5 and the keys of the dictionary created in Assignment 1.\n",
    "\n",
    "### Assignment 3: Dictionary Methods\n",
    "\n",
    "Add a new key-value pair (11, 121) to the dictionary created in Assignment 1 and then remove the key-value pair with key 1. Print the modified dictionary.\n",
    "\n",
    "### Assignment 4: Iterating Over Dictionaries\n",
    "\n",
    "Iterate over the dictionary created in Assignment 1 and print each key-value pair.\n",
    "\n",
    "### Assignment 5: Dictionary Comprehensions\n",
    "\n",
    "Create a new dictionary containing the cubes of the first 10 positive integers using a dictionary comprehension. Print the new dictionary.\n",
    "\n",
    "### Assignment 6: Merging Dictionaries\n",
    "\n",
    "Create two dictionaries: one with keys as the first 5 positive integers and values as their squares, and another with keys as the next 5 positive integers and values as their squares. Merge these dictionaries into a single dictionary and print it.\n",
    "\n",
    "### Assignment 7: Nested Dictionaries\n",
    "\n",
    "Create a nested dictionary representing a student with keys 'name', 'age', 'grades', where 'grades' is another dictionary with keys 'math', 'science', and 'english'. Print the nested dictionary.\n",
    "\n",
    "### Assignment 8: Dictionary of Lists\n",
    "\n",
    "\n",
    "Create a dictionary where the keys are the first 5 positive integers and the values are lists containing the first 5 multiples of the key. Print the dictionary.\n",
    "### Assignment 9: Dictionary of Tuples\n",
    "\n",
    "Create a dictionary where the keys are the first 5 positive integers and the values are tuples containing the key and its square. Print the dictionary.\n",
    "\n",
    "### Assignment 10: Dictionary and List Conversion\n",
    "\n",
    "Create a dictionary with the first 5 positive integers as keys and their squares as values. Convert the dictionary to a list of tuples and print it.\n",
    "\n",
    "### Assignment 11: Dictionary Filtering\n",
    "\n",
    "Create a dictionary with the first 10 positive integers as keys and their squares as values. Create a new dictionary containing only the key-value pairs where the key is even. Print the new dictionary.\n",
    "\n",
    "### Assignment 12: Dictionary Key and Value Transformation\n",
    "\n",
    "Create a dictionary with the first 5 positive integers as keys and their squares as values. Create a new dictionary with keys and values swapped. Print the new dictionary.\n",
    "\n",
    "### Assignment 13: Default Dictionary\n",
    "\n",
    "Create a default dictionary where each key has a default value of an empty list. Add some elements to the lists and print the dictionary.\n",
    "\n",
    "### Assignment 14: Counting with Dictionaries\n",
    "\n",
    "Write a function that takes a string and returns a dictionary with the count of each character in the string. Print the dictionary.\n",
    "\n",
    "### Assignment 15: Dictionary and JSON\n",
    "\n",
    "Create a dictionary representing a book with keys 'title', 'author', 'year', and 'genre'. Convert the dictionary to a JSON string and print it."
   ]
  },
  {
   "cell_type": "code",
   "execution_count": null,
   "metadata": {},
   "outputs": [],
   "source": [
    "## Create a dictionary with the first 10 positive integers as keys and their squares as values. Print the dictionary.\n",
    "squares = {x: x**2 for x in range(1, 11)}\n",
    "print(\"Dictionary of squares:\", squares)"
   ]
  },
  {
   "cell_type": "code",
   "execution_count": null,
   "id": "d591ffe9",
   "metadata": {},
   "outputs": [],
   "source": [
    "## Print the value of the key 5 and the keys of the dictionary created in Assignment 1.\n",
    "squares = {x: x**2 for x in range(1, 11)}\n",
    "\n",
    "print(\"Value of key 5:\", squares[5])\n",
    "print(\"Keys of the dictionary:\", list(squares.keys()))"
   ]
  },
  {
   "cell_type": "code",
   "execution_count": null,
   "id": "887defc7",
   "metadata": {},
   "outputs": [],
   "source": [
    "## Add a new key-value pair (11, 121) to the dictionary created in Assignment 1 and then remove the key-value pair with key 1. Print the modified dictionary.\n",
    "squares = {x: x**2 for x in range(1, 11)}\n",
    "\n",
    "squares[11] = 121\n",
    "del squares[1]\n",
    "\n",
    "print(\"Modified dictionary:\", squares)"
   ]
  },
  {
   "cell_type": "code",
   "execution_count": null,
   "id": "6b947664",
   "metadata": {},
   "outputs": [],
   "source": [
    "## squares = {x: x**2 for x in range(1, 11)}\n",
    "\n",
    "for key, value in squares.items():\n",
    "    print(f\"Key: {key}, Value: {value}\")"
   ]
  },
  {
   "cell_type": "code",
   "execution_count": null,
   "id": "0280fa47",
   "metadata": {},
   "outputs": [],
   "source": [
    "## Create a new dictionary containing the cubes of the first 10 positive integers using a dictionary comprehension. Print the new dictionary.\n",
    "cubes = {x: x**3 for x in range(1, 11)}\n",
    "print(\"Dictionary of cubes:\", cubes)"
   ]
  },
  {
   "cell_type": "code",
   "execution_count": null,
   "id": "7507b715",
   "metadata": {},
   "outputs": [],
   "source": [
    "##Create two dictionaries: one with keys as the first 5 positive integers and values as their squares, and another with keys as the next 5 positive integers and values as their squares. Merge these dictionaries into a single dictionary and print it.\n",
    "dict1 = {x: x**2 for x in range(1, 6)}\n",
    "dict2 = {x: x**2 for x in range(6, 11)}\n",
    "\n",
    "merged = {**dict1, **dict2}\n",
    "print(\"Merged dictionary:\", merged)"
   ]
  },
  {
   "cell_type": "code",
   "execution_count": null,
   "id": "a3c52971",
   "metadata": {},
   "outputs": [],
   "source": [
    "## Create a nested dictionary representing a student with keys 'name', 'age', 'grades', where 'grades' is another dictionary with keys 'math', 'science', and 'english'. Print the nested dictionary.\n",
    "student = {\n",
    "    \"name\": \"Aarav\",\n",
    "    \"age\": 15,\n",
    "    \"grades\": {\n",
    "        \"math\": 92,\n",
    "        \"science\": 88,\n",
    "        \"english\": 85\n",
    "    }\n",
    "}\n",
    "\n",
    "print(\"Student info:\", student)"
   ]
  },
  {
   "cell_type": "code",
   "execution_count": null,
   "id": "17eb80e8",
   "metadata": {},
   "outputs": [],
   "source": [
    "## Create a dictionary where the keys are the first 5 positive integers and the values are lists containing the first 5 multiples of the key. Print the dictionary.\n",
    "multiples = {x: [x * i for i in range(1, 6)] for x in range(1, 6)}\n",
    "print(\"Dictionary of multiples:\", multiples)"
   ]
  },
  {
   "cell_type": "code",
   "execution_count": null,
   "id": "4d57707d",
   "metadata": {},
   "outputs": [],
   "source": [
    "## Create a dictionary where the keys are the first 5 positive integers and the values are tuples containing the key and its square. Print the dictionary.\n",
    "data = {x: (x, x**2) for x in range(1, 6)}\n",
    "print(\"Dictionary with key and its square as tuple:\", data)"
   ]
  },
  {
   "cell_type": "code",
   "execution_count": null,
   "id": "d5531173",
   "metadata": {},
   "outputs": [],
   "source": [
    "## Create two dictionaries: one with keys as the first 5 positive integers and values as their squares, and another with keys as the next 5 positive integers and values as their squares. Merge these dictionaries into a single dictionary and print it.\n",
    "dict1 = {x: x**2 for x in range(1, 6)}\n",
    "dict2 = {x: x**2 for x in range(6, 11)}\n",
    "\n",
    "merged_dict = {**dict1, **dict2}\n",
    "print(\"Merged dictionary:\", merged_dict)"
   ]
  },
  {
   "cell_type": "code",
   "execution_count": null,
   "id": "44cffb2b",
   "metadata": {},
   "outputs": [],
   "source": [
    "## Create a nested dictionary representing a student with keys 'name', 'age', 'grades', where 'grades' is another dictionary with keys 'math', 'science', and 'english'. Print the nested dictionary\n",
    "student = {\n",
    "    \"name\": \"Aarav\",\n",
    "    \"age\": 16,\n",
    "    \"grades\": {\n",
    "        \"math\": 95,\n",
    "        \"science\": 89,\n",
    "        \"english\": 90\n",
    "    }\n",
    "}\n",
    "\n",
    "print(\"Nested student dictionary:\", student)"
   ]
  },
  {
   "cell_type": "code",
   "execution_count": null,
   "id": "bb587c6c",
   "metadata": {},
   "outputs": [],
   "source": [
    "## Create a dictionary where the keys are the first 5 positive integers and the values are lists containing the first 5 multiples of the key. Print the dictionary.\n",
    "multiples_dict = {x: [x * i for i in range(1, 6)] for x in range(1, 6)}\n",
    "print(\"Dictionary of multiples:\", multiples_dict)"
   ]
  },
  {
   "cell_type": "code",
   "execution_count": null,
   "id": "4be81e0d",
   "metadata": {},
   "outputs": [],
   "source": [
    "## Create a dictionary where the keys are the first 5 positive integers and the values are tuples containing the key and its square. Print the dictionary.\n",
    "data = {x: (x, x**2) for x in range(1, 6)}\n",
    "print(\"Dictionary of key and its square as tuple:\", data)"
   ]
  },
  {
   "cell_type": "code",
   "execution_count": null,
   "id": "61394db3",
   "metadata": {},
   "outputs": [],
   "source": [
    "## Create a dictionary with the first 5 positive integers as keys and their squares as values. Convert the dictionary to a list of tuples and print it.\n",
    "squares = {x: x**2 for x in range(1, 6)}\n",
    "tuple_list = list(squares.items())\n",
    "print(\"List of tuples:\", tuple_list)"
   ]
  },
  {
   "cell_type": "code",
   "execution_count": null,
   "id": "5d48a5dd",
   "metadata": {},
   "outputs": [],
   "source": [
    "## Create a dictionary with the first 10 positive integers as keys and their squares as values. Create a new dictionary containing only the key-value pairs where the key is even. Print the new dictionary.\n",
    "squares = {i: i**2 for i in range(1, 11)}\n",
    "even_squares = {k: v for k, v in squares.items() if k % 2 == 0}\n",
    "print(even_squares)"
   ]
  },
  {
   "cell_type": "code",
   "execution_count": null,
   "id": "7d9cf4b9",
   "metadata": {},
   "outputs": [],
   "source": [
    "## Create a dictionary with the first 5 positive integers as keys and their squares as values. Create a new dictionary with keys and values swapped. Print the new dictionary.\n",
    "squares = {i: i**2 for i in range(1, 6)}\n",
    "swapped = {v: k for k, v in squares.items()}\n",
    "print(swapped)"
   ]
  },
  {
   "cell_type": "code",
   "execution_count": null,
   "id": "db8b0cdb",
   "metadata": {},
   "outputs": [],
   "source": [
    "## Create a default dictionary where each key has a default value of an empty list. Add some elements to the lists and print the dictionary.\n",
    "from collections import defaultdict\n",
    "\n",
    "data = defaultdict(list)\n",
    "data['fruits'].extend(['apple', 'banana'])\n",
    "data['vegetables'].append('carrot')\n",
    "data['drinks'] += ['water', 'juice']\n",
    "\n",
    "print(dict(data))"
   ]
  },
  {
   "cell_type": "code",
   "execution_count": null,
   "id": "ef070383",
   "metadata": {},
   "outputs": [],
   "source": [
    "## Write a function that takes a string and returns a dictionary with the count of each character in the string. Print the dictionary.\n",
    "def count_characters(s):\n",
    "    return {char: s.count(char) for char in set(s)}\n",
    "\n",
    "text = \"hello world\"\n",
    "result = count_characters(text)\n",
    "print(result)"
   ]
  },
  {
   "cell_type": "code",
   "execution_count": null,
   "id": "8e299f9f",
   "metadata": {},
   "outputs": [],
   "source": [
    "## Create a dictionary representing a book with keys 'title', 'author', 'year', and 'genre'. Convert the dictionary to a JSON string and print it.\n",
    "import json\n",
    "\n",
    "book = {\n",
    "    'title': 'The Silent Patient',\n",
    "    'author': 'Alex Michaelides',\n",
    "    'year': 2019,\n",
    "    'genre': 'Thriller'\n",
    "}\n",
    "\n",
    "json_string = json.dumps(book)\n",
    "print(json_string)"
   ]
  }
 ],
 "metadata": {
  "kernelspec": {
   "display_name": "Python 3",
   "language": "python",
   "name": "python3"
  },
  "language_info": {
   "codemirror_mode": {
    "name": "ipython",
    "version": 3
   },
   "file_extension": ".py",
   "mimetype": "text/x-python",
   "name": "python",
   "nbconvert_exporter": "python",
   "pygments_lexer": "ipython3",
   "version": "3.9.7"
  }
 },
 "nbformat": 4,
 "nbformat_minor": 5
}
