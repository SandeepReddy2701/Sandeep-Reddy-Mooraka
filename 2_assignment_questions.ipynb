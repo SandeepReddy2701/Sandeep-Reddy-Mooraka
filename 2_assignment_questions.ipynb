{
 "cells": [
  {
   "cell_type": "markdown",
   "metadata": {},
   "source": [
    "# Module 2: Control Flow Assignments\n",
    "## Lesson 2.1: Conditional Statements\n",
    "### Assignment 1: Simple if Statement\n",
    "\n",
    "Write a program that asks the user to input a number and prints whether the number is positive.\n",
    "\n",
    "### Assignment 2: if-else Statement\n",
    "\n",
    "Write a program that asks the user to input a number and prints whether the number is positive or negative.\n",
    "\n",
    "### Assignment 3: if-elif-else Statement\n",
    "\n",
    "Write a program that asks the user to input a number and prints whether the number is positive, negative, or zero.\n",
    "\n",
    "### Assignment 4: Nested if Statement\n",
    "\n",
    "Write a program that asks the user to input a number and prints whether the number is positive and even, positive and odd, or negative.\n",
    "\n",
    "## Lesson 2.2: Loops\n",
    "### Assignment 5: for Loop\n",
    "\n",
    "Write a program that prints all the numbers from 1 to 10 using a for loop.\n",
    "\n",
    "### Assignment 6: while Loop\n",
    "\n",
    "Write a program that prints all the numbers from 1 to 10 using a while loop.\n",
    "\n",
    "### Assignment 7: Nested Loops\n",
    "\n",
    "Write a program that prints a 5x5 grid of asterisks (*) using nested loops.\n",
    "\n",
    "### Assignment 8: break Statement\n",
    "\n",
    "Write a program that asks the user to input numbers until they input 0. The program should print the sum of all the input numbers.\n",
    "\n",
    "### Assignment 9: continue Statement\n",
    "\n",
    "Write a program that prints all the numbers from 1 to 10 except 5 using a for loop and continue statement.\n",
    "\n",
    "### Assignment 10: pass Statement\n",
    "\n",
    "Write a program that defines an empty function using the pass statement.\n",
    "\n",
    "### Assignment 11: Combining Loops and Conditionals\n",
    "\n",
    "Write a program that asks the user to input a number and prints all the even numbers from 1 to that number using a for loop.\n",
    "\n",
    "### Assignment 12: Factorial Calculation\n",
    "\n",
    "Write a program that calculates the factorial of a number input by the user using a while loop.\n",
    "\n",
    "### Assignment 13: Sum of Digits\n",
    "\n",
    "Write a program that calculates the sum of the digits of a number input by the user using a while loop.\n",
    "\n",
    "### Assignment 14: Prime Number Check\n",
    "\n",
    "Write a program that checks if a number input by the user is a prime number using a for loop.\n",
    "\n",
    "### Assignment 15: Fibonacci Sequence\n",
    "\n",
    "Write a program that prints the first n Fibonacci numbers, where n is input by the user."
   ]
  },
  {
   "cell_type": "code",
   "execution_count": null,
   "id": "d8f075b8",
   "metadata": {},
   "outputs": [],
   "source": [
    "## Write a program that asks the user to input a number and prints whether the number is positive.\n",
    "num = float(input(\"Enter a number: \"))\n",
    "if num > 0:\n",
    "    print(\"The number is positive.\")\n",
    "else:\n",
    "    print(\"The number is not positive.\")\n"
   ]
  },
  {
   "cell_type": "code",
   "execution_count": null,
   "id": "b1de657e",
   "metadata": {},
   "outputs": [],
   "source": [
    "## Write a program that asks the user to input a number and prints whether the number is positive or negative.\n",
    "num = float(input(\"Enter a number: \"))\n",
    "if num > 0:\n",
    "    print(\"The number is positive.\")\n",
    "elif num < 0:\n",
    "    print(\"The number is negative.\")\n",
    "else:\n",
    "    print(\"The number is zero.\")\n"
   ]
  },
  {
   "cell_type": "code",
   "execution_count": null,
   "id": "03c2ae95",
   "metadata": {},
   "outputs": [],
   "source": [
    "## Write a program that asks the user to input a number and prints whether the number is positive, negative, or zero.\n",
    "num = float(input(\"Enter a number: \"))\n",
    "if num > 0:\n",
    "    print(\"The number is positive.\")\n",
    "elif num < 0:\n",
    "    print(\"The number is negative.\")\n",
    "else:\n",
    "    print(\"The number is zero.\")"
   ]
  },
  {
   "cell_type": "code",
   "execution_count": null,
   "id": "7b0dad77",
   "metadata": {},
   "outputs": [],
   "source": [
    "## Write a program that asks the user to input a number and prints whether the number is positive, negative, or zero.\n",
    "number = float(input(\"Enter a number: \"))\n",
    "if number > 0:\n",
    "    print(\"The number is positive.\")\n",
    "elif number < 0:\n",
    "    print(\"The number is negative.\")\n",
    "else:\n",
    "    print(\"The number is zero.\")\n"
   ]
  },
  {
   "cell_type": "code",
   "execution_count": null,
   "id": "f982d2d1",
   "metadata": {},
   "outputs": [],
   "source": [
    "## Write a program that prints all the numbers from 1 to 10 using a for loop.\n",
    "\n",
    "for number in range(1, 11):\n",
    "    print(number)"
   ]
  },
  {
   "cell_type": "code",
   "execution_count": null,
   "id": "ca985370",
   "metadata": {},
   "outputs": [],
   "source": [
    "## Write a program that prints all the numbers from 1 to 10 using a while loop.\n",
    "number = 1\n",
    "while number <= 10:\n",
    "    print(number)\n",
    "    number += 1"
   ]
  },
  {
   "cell_type": "code",
   "execution_count": null,
   "id": "fd097fb4",
   "metadata": {},
   "outputs": [],
   "source": [
    "## Write a program that prints a 5x5 grid of asterisks (*) using nested loops.\n",
    "for row in range(5):\n",
    "    for col in range(5):\n",
    "        print(\"*\", end=\" \")\n",
    "    print()"
   ]
  },
  {
   "cell_type": "code",
   "execution_count": null,
   "id": "f1cbc624",
   "metadata": {},
   "outputs": [],
   "source": [
    " ## Write a program that asks the user to input numbers until they input 0. The program should print the sum of all the input numbers.\n",
    "total = 0\n",
    "while True:\n",
    "    num = float(input(\"Enter a number (0 to stop): \"))\n",
    "    if num == 0:\n",
    "        break\n",
    "    total += num\n",
    "\n",
    "print(\"Sum of all entered numbers:\", total)\n",
    " "
   ]
  },
  {
   "cell_type": "code",
   "execution_count": null,
   "id": "45075db2",
   "metadata": {},
   "outputs": [],
   "source": [
    "## Write a program that prints all the numbers from 1 to 10 except 5 using a for loop and continue statement.\n",
    "for number in range(1, 11):\n",
    "    if number == 5:\n",
    "        continue\n",
    "    print(number)"
   ]
  },
  {
   "cell_type": "code",
   "execution_count": null,
   "id": "af6cf4f9",
   "metadata": {},
   "outputs": [],
   "source": [
    "## Write a program that defines an empty function using the pass statement.\n",
    "def placeholder_function():\n",
    "    pass"
   ]
  },
  {
   "cell_type": "code",
   "execution_count": null,
   "id": "8e138e6f",
   "metadata": {},
   "outputs": [],
   "source": [
    "## Write a program that asks the user to input a number and prints all the even numbers from 1 to that number using a for loop.\n",
    "limit = int(input(\"Enter a number: \"))\n",
    "for num in range(1, limit + 1):\n",
    "    if num % 2 == 0:\n",
    "        print(num)"
   ]
  },
  {
   "cell_type": "code",
   "execution_count": null,
   "id": "96901bd2",
   "metadata": {},
   "outputs": [],
   "source": [
    "## Write a program that calculates the factorial of a number input by the user using a while loop.\n",
    "num = int(input(\"Enter a number: \"))\n",
    "factorial = 1\n",
    "i = 1\n",
    "while i <= num:\n",
    "    factorial *= i\n",
    "    i += 1\n",
    "print(\"Factorial of\", num, \"is:\", factorial)"
   ]
  },
  {
   "cell_type": "code",
   "execution_count": null,
   "id": "0e95563d",
   "metadata": {},
   "outputs": [],
   "source": [
    "## Write a program that calculates the sum of the digits of a number input by the user using a while loop.\n",
    "num = int(input(\"Enter a number: \"))\n",
    "total = 0\n",
    "while num > 0:\n",
    "    digit = num % 10\n",
    "    total += digit\n",
    "    num //= 10\n",
    "\n",
    "print(\"Sum of digits:\", total)"
   ]
  },
  {
   "cell_type": "code",
   "execution_count": null,
   "id": "ce64bc5b",
   "metadata": {},
   "outputs": [],
   "source": [
    "## Write a program that checks if a number input by the user is a prime number using a for loop.\n",
    "num = int(input(\"Enter a number: \"))\n",
    "if num < 2:\n",
    "    print(\"The number is not a prime.\")\n",
    "else:\n",
    "    for i in range(2, int(num**0.5) + 1):\n",
    "        if num % i == 0:\n",
    "            print(\"The number is not a prime.\")\n",
    "            break\n",
    "    else:\n",
    "        print(\"The number is a prime.\")"
   ]
  },
  {
   "cell_type": "code",
   "execution_count": null,
   "id": "1d57ab39",
   "metadata": {},
   "outputs": [],
   "source": [
    "## Write a program that prints the first n Fibonacci numbers, where n is input by the user.\n",
    "n = int(input(\"Enter how many Fibonacci numbers to print: \"))\n",
    "a, b = 0, 1\n",
    "for _ in range(n):\n",
    "    print(a)\n",
    "    a, b = b, a + b"
   ]
  }
 ],
 "metadata": {
  "kernelspec": {
   "display_name": "Python 3",
   "language": "python",
   "name": "python3"
  },
  "language_info": {
   "codemirror_mode": {
    "name": "ipython",
    "version": 3
   },
   "file_extension": ".py",
   "mimetype": "text/x-python",
   "name": "python",
   "nbconvert_exporter": "python",
   "pygments_lexer": "ipython3",
   "version": "3.12.5"
  }
 },
 "nbformat": 4,
 "nbformat_minor": 5
}
