{
 "cells": [
  {
   "cell_type": "markdown",
   "id": "6cade624",
   "metadata": {},
   "source": [
    "# Module 3: Data Structures Assignments\n",
    "## Lesson 3.2: Tuples\n",
    "### Assignment 1: Creating and Accessing Tuples\n",
    "\n",
    "Create a tuple with the first 10 positive integers. Print the tuple.\n",
    "\n",
    "### Assignment 2: Accessing Tuple Elements\n",
    "\n",
    "Print the first, middle, and last elements of the tuple created in Assignment 1.\n",
    "\n",
    "### Assignment 3: Tuple Slicing\n",
    "\n",
    "Print the first three elements, the last three elements, and the elements from index 2 to 5 of the tuple created in Assignment 1.\n",
    "\n",
    "### Assignment 4: Nested Tuples\n",
    "\n",
    "Create a nested tuple representing a 3x3 matrix and print the matrix. Access and print the element at the second row and third column.\n",
    "\n",
    "### Assignment 5: Tuple Concatenation\n",
    "\n",
    "Concatenate two tuples: (1, 2, 3) and (4, 5, 6). Print the resulting tuple.\n",
    "\n",
    "### Assignment 6: Tuple Methods\n",
    "\n",
    "Create a tuple with duplicate elements and count the occurrences of an element. Find the index of the first occurrence of an element in the tuple.\n",
    "\n",
    "### Assignment 7: Unpacking Tuples\n",
    "\n",
    "Create a tuple with 5 elements and unpack it into 5 variables. Print the variables.\n",
    "\n",
    "### Assignment 8: Tuple Conversion\n",
    "\n",
    "Convert a list of the first 5 positive integers to a tuple. Print the tuple.\n",
    "\n",
    "### Assignment 9: Tuple of Tuples\n",
    "\n",
    "Create a tuple containing 3 tuples, each with 3 elements. Print the tuple of tuples.\n",
    "\n",
    "### Assignment 10: Tuple and List\n",
    "\n",
    "Create a tuple with the first 5 positive integers. Convert it to a list, append the number 6, and convert it back to a tuple. Print the resulting tuple.\n",
    "\n",
    "### Assignment 11: Tuple and String\n",
    "\n",
    "Create a tuple with the characters of a string. Join the tuple elements into a single string. Print the string.\n",
    "\n",
    "### Assignment 12: Tuple and Dictionary\n",
    "\n",
    "Create a dictionary with tuple keys and integer values. Print the dictionary.\n",
    "\n",
    "### Assignment 13: Nested Tuple Iteration\n",
    "\n",
    "Create a nested tuple and iterate over the elements, printing each element.\n",
    "\n",
    "### Assignment 14: Tuple and Set\n",
    "\n",
    "Create a tuple with duplicate elements. Convert it to a set to remove duplicates and print the resulting set.\n",
    "\n",
    "### Assignment 15: Tuple Functions\n",
    "\n",
    "Write functions that take a tuple and return the minimum, maximum, and sum of the elements. Print the results for a sample tuple."
   ]
  },
  {
   "cell_type": "code",
   "execution_count": null,
   "metadata": {},
   "outputs": [],
   "source": [
    "## Create a tuple with the first 10 positive integers. Print the tuple.\n",
    "numbers = tuple(range(1, 11))\n",
    "print(numbers)"
   ]
  },
  {
   "cell_type": "code",
   "execution_count": null,
   "id": "a6ec5c15",
   "metadata": {},
   "outputs": [],
   "source": [
    "## Print the first, middle, and last elements of the tuple created in Assignment 1.\n",
    "numbers = tuple(range(1, 11))\n",
    "first = numbers[0]\n",
    "middle = numbers[len(numbers) // 2]\n",
    "last = numbers[-1]\n",
    "print(\"First element:\", first)\n",
    "print(\"Middle element:\", middle)\n",
    "print(\"Last element:\", last)"
   ]
  },
  {
   "cell_type": "code",
   "execution_count": null,
   "id": "8a8f1297",
   "metadata": {},
   "outputs": [],
   "source": [
    "## Print the first three elements, the last three elements, and the elements from index 2 to 5 of the tuple created in Assignment 1.\n",
    "numbers = tuple(range(1, 11))\n",
    "first_three = numbers[:3]\n",
    "last_three = numbers[-3:]\n",
    "slice_2_to_5 = numbers[2:6]\n",
    "print(\"First three elements:\", first_three)\n",
    "print(\"Last three elements:\", last_three)\n",
    "print(\"Elements from index 2 to 5:\", slice_2_to_5)"
   ]
  },
  {
   "cell_type": "code",
   "execution_count": null,
   "id": "b29fdcb1",
   "metadata": {},
   "outputs": [],
   "source": [
    "## Create a nested tuple representing a 3x3 matrix and print the matrix. Access and print the element at the second row and third column.\n",
    "matrix = (\n",
    "    (1, 2, 3),\n",
    "    (4, 5, 6),\n",
    "    (7, 8, 9)\n",
    ")\n",
    "\n",
    "for row in matrix:\n",
    "    print(row)\n",
    "\n",
    "element = matrix[1][2]\n",
    "print(\"Element at second row, third column:\", element)"
   ]
  },
  {
   "cell_type": "code",
   "execution_count": null,
   "id": "b780d6f8",
   "metadata": {},
   "outputs": [],
   "source": [
    "## Concatenate two tuples: (1, 2, 3) and (4, 5, 6). Print the resulting tuple.\n",
    "tuple1 = (1, 2, 3)\n",
    "tuple2 = (4, 5, 6)\n",
    "\n",
    "result = tuple1 + tuple2\n",
    "print(result)"
   ]
  },
  {
   "cell_type": "code",
   "execution_count": null,
   "id": "c945b319",
   "metadata": {},
   "outputs": [],
   "source": [
    "## Create a tuple with duplicate elements and count the occurrences of an element. Find the index of the first occurrence of an element in the tuple.\n",
    "numbers = (2, 4, 6, 2, 8, 2, 10, 4)\n",
    "count_2 = numbers.count(2)\n",
    "index_2 = numbers.index(2)\n",
    "\n",
    "print(\"Tuple:\", numbers)\n",
    "print(\"Occurrences of 2:\", count_2)\n",
    "print(\"First index of 2:\", index_2)"
   ]
  },
  {
   "cell_type": "code",
   "execution_count": null,
   "id": "37692b6c",
   "metadata": {},
   "outputs": [],
   "source": [
    "## Create a tuple with 5 elements and unpack it into 5 variables. Print the variables.\n",
    "data = (100, 200, 300, 400, 500)\n",
    "\n",
    "a, b, c, d, e = data\n",
    "\n",
    "print(\"a:\", a)\n",
    "print(\"b:\", b)\n",
    "print(\"c:\", c)\n",
    "print(\"d:\", d)\n",
    "print(\"e:\", e)"
   ]
  },
  {
   "cell_type": "code",
   "execution_count": null,
   "id": "968a4365",
   "metadata": {},
   "outputs": [],
   "source": [
    "## Convert a list of the first 5 positive integers to a tuple. Print the tuple.\n",
    "numbers = [1, 2, 3, 4, 5]\n",
    "converted = tuple(numbers)\n",
    "print(converted)"
   ]
  },
  {
   "cell_type": "code",
   "execution_count": null,
   "id": "0b989ed2",
   "metadata": {},
   "outputs": [],
   "source": [
    "## Create a tuple containing 3 tuples, each with 3 elements. Print the tuple of tuples.\n",
    "matrix = (\n",
    "    (10, 20, 30),\n",
    "    (40, 50, 60),\n",
    "    (70, 80, 90)\n",
    ")\n",
    "\n",
    "print(matrix)"
   ]
  },
  {
   "cell_type": "code",
   "execution_count": null,
   "id": "240031c8",
   "metadata": {},
   "outputs": [],
   "source": [
    "## Create a tuple with the first 5 positive integers. Convert it to a list, append the number 6, and convert it back to a tuple. Print the resulting tuple.\n",
    "numbers = (1, 2, 3, 4, 5)\n",
    "temp_list = list(numbers)\n",
    "temp_list.append(6)\n",
    "result = tuple(temp_list)\n",
    "print(result)"
   ]
  },
  {
   "cell_type": "code",
   "execution_count": null,
   "id": "36531882",
   "metadata": {},
   "outputs": [],
   "source": [
    "## Create a tuple with the characters of a string. Join the tuple elements into a single string. Print the string.\n",
    "text = \"Python\"\n",
    "char_tuple = tuple(text)\n",
    "joined_string = ''.join(char_tuple)\n",
    "\n",
    "print(\"Tuple of characters:\", char_tuple)\n",
    "print(\"Joined string:\", joined_string)"
   ]
  },
  {
   "cell_type": "code",
   "execution_count": null,
   "id": "fcfacae1",
   "metadata": {},
   "outputs": [],
   "source": [
    "## Create a dictionary with tuple keys and integer values. Print the dictionary.\n",
    "data = {\n",
    "    (1, 2): 10,\n",
    "    (3, 4): 20,\n",
    "    (5, 6): 30\n",
    "}\n",
    "\n",
    "print(data)"
   ]
  },
  {
   "cell_type": "code",
   "execution_count": null,
   "id": "acfb41bc",
   "metadata": {},
   "outputs": [],
   "source": [
    "## Create a nested tuple and iterate over the elements, printing each element.\n",
    "nested = (\n",
    "    (1, 2, 3),\n",
    "    (4, 5, 6),\n",
    "    (7, 8, 9)\n",
    ")\n",
    "for row in nested:\n",
    "    for item in row:\n",
    "        print(item)"
   ]
  },
  {
   "cell_type": "code",
   "execution_count": null,
   "id": "74906908",
   "metadata": {},
   "outputs": [],
   "source": [
    "## Create a tuple with duplicate elements. Convert it to a set to remove duplicates and print the resulting set.\n",
    "numbers = (1, 2, 3, 2, 4, 3, 5)\n",
    "\n",
    "unique_set = set(numbers)\n",
    "print(\"Set without duplicates:\", unique_set)"
   ]
  },
  {
   "cell_type": "code",
   "execution_count": null,
   "id": "dacd7881",
   "metadata": {},
   "outputs": [],
   "source": [
    "## Write functions that take a tuple and return the minimum, maximum, and sum of the elements. Print the results for a sample tuple.\n",
    "def get_min(t):\n",
    "    return min(t)\n",
    "\n",
    "def get_max(t):\n",
    "    return max(t)\n",
    "\n",
    "def get_sum(t):\n",
    "    return sum(t)\n",
    "\n",
    "sample = (12, 45, 3, 67, 23, 89)\n",
    "\n",
    "print(\"Tuple:\", sample)\n",
    "print(\"Minimum:\", get_min(sample))\n",
    "print(\"Maximum:\", get_max(sample))\n",
    "print(\"Sum:\", get_sum(sample))"
   ]
  }
 ],
 "metadata": {
  "kernelspec": {
   "display_name": "Python 3",
   "language": "python",
   "name": "python3"
  },
  "language_info": {
   "codemirror_mode": {
    "name": "ipython",
    "version": 3
   },
   "file_extension": ".py",
   "mimetype": "text/x-python",
   "name": "python",
   "nbconvert_exporter": "python",
   "pygments_lexer": "ipython3",
   "version": "3.9.7"
  }
 },
 "nbformat": 4,
 "nbformat_minor": 5
}
